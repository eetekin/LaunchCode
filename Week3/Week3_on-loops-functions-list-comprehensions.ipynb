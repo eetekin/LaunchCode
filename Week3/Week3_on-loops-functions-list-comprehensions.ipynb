{
 "cells": [
  {
   "cell_type": "markdown",
   "metadata": {},
   "source": [
    "# Learning Loops, Functions and List Comprehensions\n",
    "## Loops\n",
    "* With 'while' you have to increase the input (e.g., i or number). With for 'i' or 'number' is increased automatically.\n",
    "* While needs a condition, for executes for an x amount."
   ]
  },
  {
   "cell_type": "code",
   "execution_count": 5,
   "metadata": {},
   "outputs": [
    {
     "name": "stdout",
     "output_type": "stream",
     "text": [
      "0\n",
      "1\n",
      "2\n"
     ]
    }
   ],
   "source": [
    "for i in range(3): #here is how many times to execute\n",
    "    print(i)"
   ]
  },
  {
   "cell_type": "code",
   "execution_count": 5,
   "metadata": {},
   "outputs": [
    {
     "name": "stdout",
     "output_type": "stream",
     "text": [
      "0\n",
      "1\n",
      "2\n"
     ]
    }
   ],
   "source": [
    "number=0\n",
    "while number < 3: #here is the condition statement\n",
    "    print(number)\n",
    "    number = number+1"
   ]
  },
  {
   "cell_type": "markdown",
   "metadata": {},
   "source": [
    "#### Example: write a Fibonnaci loop using while"
   ]
  },
  {
   "cell_type": "code",
   "execution_count": 6,
   "metadata": {},
   "outputs": [
    {
     "name": "stdout",
     "output_type": "stream",
     "text": [
      "1\n",
      "2\n",
      "3\n",
      "5\n",
      "8\n",
      "13\n",
      "21\n",
      "34\n",
      "55\n",
      "89\n",
      "144\n",
      "233\n",
      "377\n"
     ]
    }
   ],
   "source": [
    "first_no = 0\n",
    "second_no = 1\n",
    "total = None\n",
    "\n",
    "while first_no <= 144:\n",
    "    total = first_no + second_no\n",
    "    print(total)\n",
    "    first_no = second_no\n",
    "    second_no = total"
   ]
  },
  {
   "cell_type": "code",
   "execution_count": 8,
   "metadata": {},
   "outputs": [
    {
     "name": "stdout",
     "output_type": "stream",
     "text": [
      "1 0 1\n",
      "2 1 1\n",
      "3 1 2\n",
      "5 2 3\n",
      "8 3 5\n",
      "13 5 8\n",
      "21 8 13\n",
      "34 13 21\n",
      "55 21 34\n",
      "89 34 55\n",
      "144 55 89\n",
      "233 89 144\n",
      "377 144 233\n"
     ]
    }
   ],
   "source": [
    "#ask to print all numbers for each step\n",
    "first_no = 0\n",
    "second_no = 1\n",
    "total = None\n",
    "\n",
    "while first_no <= 144:\n",
    "    total = first_no + second_no\n",
    "    print(total, first_no, second_no) \n",
    "    first_no = second_no\n",
    "    second_no = total"
   ]
  },
  {
   "cell_type": "code",
   "execution_count": 9,
   "metadata": {},
   "outputs": [
    {
     "name": "stdout",
     "output_type": "stream",
     "text": [
      "0 1 None\n",
      "1 1 1\n",
      "1 2 2\n",
      "2 3 3\n",
      "3 5 5\n",
      "5 8 8\n",
      "8 13 13\n",
      "13 21 21\n",
      "21 34 34\n",
      "34 55 55\n",
      "55 89 89\n",
      "89 144 144\n",
      "144 233 233\n"
     ]
    }
   ],
   "source": [
    "first_no = 0\n",
    "second_no = 1\n",
    "total = None\n",
    "\n",
    "while first_no <= 144:\n",
    "    print(first_no, second_no, total) #print before they change\n",
    "    total = first_no + second_no\n",
    "    first_no = second_no\n",
    "    second_no = total"
   ]
  },
  {
   "cell_type": "markdown",
   "metadata": {},
   "source": [
    "#### Example: write a Fibonnaci loop using for"
   ]
  },
  {
   "cell_type": "code",
   "execution_count": 15,
   "metadata": {},
   "outputs": [
    {
     "name": "stdout",
     "output_type": "stream",
     "text": [
      "1\n",
      "2\n",
      "3\n",
      "5\n",
      "8\n",
      "13\n",
      "21\n",
      "34\n",
      "55\n",
      "89\n",
      "144\n",
      "233\n",
      "377\n"
     ]
    }
   ],
   "source": [
    "first_no = 0\n",
    "second_no = 1\n",
    "total = 0\n",
    "for i in range(13):\n",
    "    total = first_no + second_no\n",
    "    print(total)\n",
    "    first_no = second_no\n",
    "    second_no = total"
   ]
  },
  {
   "cell_type": "code",
   "execution_count": 16,
   "metadata": {},
   "outputs": [
    {
     "name": "stdout",
     "output_type": "stream",
     "text": [
      "1 0 1\n",
      "2 1 1\n",
      "3 1 2\n",
      "5 2 3\n",
      "8 3 5\n",
      "13 5 8\n",
      "21 8 13\n",
      "34 13 21\n",
      "55 21 34\n",
      "89 34 55\n",
      "144 55 89\n",
      "233 89 144\n",
      "377 144 233\n"
     ]
    }
   ],
   "source": [
    "first_no = 0\n",
    "second_no = 1\n",
    "total=None\n",
    "\n",
    "for i in range(13):\n",
    "    total=first_no + second_no\n",
    "    print(total, first_no, second_no) #print all of them\n",
    "    first_no = second_no\n",
    "    second_no = total\n",
    "    "
   ]
  },
  {
   "cell_type": "code",
   "execution_count": 10,
   "metadata": {},
   "outputs": [
    {
     "name": "stdout",
     "output_type": "stream",
     "text": [
      "0 1 None\n",
      "1 1 1\n",
      "1 2 2\n",
      "2 3 3\n",
      "3 5 5\n",
      "5 8 8\n",
      "8 13 13\n",
      "13 21 21\n",
      "21 34 34\n",
      "34 55 55\n",
      "55 89 89\n",
      "89 144 144\n",
      "144 233 233\n"
     ]
    }
   ],
   "source": [
    "first_no = 0\n",
    "second_no = 1\n",
    "total=None\n",
    "\n",
    "for i in range(13):\n",
    "    print(first_no, second_no, total) #change where you print\n",
    "    total=first_no + second_no\n",
    "    first_no = second_no\n",
    "    second_no = total\n",
    "    "
   ]
  },
  {
   "cell_type": "markdown",
   "metadata": {},
   "source": [
    "## Nested Loops"
   ]
  },
  {
   "cell_type": "code",
   "execution_count": 18,
   "metadata": {},
   "outputs": [
    {
     "name": "stdout",
     "output_type": "stream",
     "text": [
      " \n",
      "*  \n",
      "* *  \n",
      "* * *  \n",
      "* * * *  \n",
      "* * * * *  \n",
      "* * * * * *  \n",
      "* * * * * * *  \n",
      "* * * * * * * *  \n",
      "* * * * * * * * *  \n",
      "* * * * * * * * * *  \n",
      "* * * * * * * * *  \n",
      "* * * * * * * *  \n",
      "* * * * * * *  \n",
      "* * * * * *  \n",
      "* * * * *  \n",
      "* * * *  \n",
      "* * *  \n",
      "* *  \n",
      "*  \n"
     ]
    }
   ],
   "source": [
    "for i in range(10):\n",
    "    for j in range(i):\n",
    "        print('*', end=' ')\n",
    "    print(' ')\n",
    "for i in range(10,0,-1):\n",
    "    for j in range(i):\n",
    "           print('*', end=' ')\n",
    "    print(' ')"
   ]
  },
  {
   "cell_type": "code",
   "execution_count": 28,
   "metadata": {},
   "outputs": [
    {
     "name": "stdout",
     "output_type": "stream",
     "text": [
      "* * * * * * * * * *  \n",
      "* * * * * * * * *  \n",
      "* * * * * * * *  \n",
      "* * * * * * *  \n",
      "* * * * * *  \n",
      "* * * * *  \n",
      "* * * *  \n",
      "* * *  \n",
      "* *  \n",
      "*  \n",
      " \n",
      " \n",
      "*  \n",
      "* *  \n",
      "* * *  \n",
      "* * * *  \n",
      "* * * * *  \n",
      "* * * * * *  \n",
      "* * * * * * *  \n",
      "* * * * * * * *  \n",
      "* * * * * * * * *  \n"
     ]
    }
   ],
   "source": [
    "for i in range (10):\n",
    "    for j in range (10-i):\n",
    "        print('*', end = ' ')\n",
    "    print(' ')\n",
    "for i in range(11,0,-1):\n",
    "    for j in range(10-i):\n",
    "        print('*', end = ' ')\n",
    "    print(' ')   "
   ]
  },
  {
   "cell_type": "markdown",
   "metadata": {},
   "source": [
    "## Functions"
   ]
  },
  {
   "cell_type": "code",
   "execution_count": 29,
   "metadata": {},
   "outputs": [],
   "source": [
    "def hello():\n",
    "    name = str(input(\"Please enter your name:\"))\n",
    "    if name:\n",
    "        print(\"Hello\", str(name))\n",
    "    else:\n",
    "        print(\"Hello stranger!\")\n",
    "    return"
   ]
  },
  {
   "cell_type": "code",
   "execution_count": 30,
   "metadata": {},
   "outputs": [
    {
     "name": "stdin",
     "output_type": "stream",
     "text": [
      "Please enter your name: \n"
     ]
    },
    {
     "name": "stdout",
     "output_type": "stream",
     "text": [
      "Hello stranger!\n"
     ]
    }
   ],
   "source": [
    "hello()"
   ]
  },
  {
   "cell_type": "markdown",
   "metadata": {},
   "source": [
    "### Class\n",
    "* __init__ initializes an instance of a class or an object. Simply stated, it acts as a constructor or initializer and is automatically called when you create a new instance of a class. "
   ]
  },
  {
   "cell_type": "code",
   "execution_count": 31,
   "metadata": {},
   "outputs": [
    {
     "name": "stdout",
     "output_type": "stream",
     "text": [
      "barkbarkbark\n"
     ]
    }
   ],
   "source": [
    "class Dog:\n",
    "    \"\"\"    \n",
    "    Requires:\n",
    "    legs - Legs so that the dog can walk.\n",
    "    color - A color of the fur.\n",
    "    \"\"\"\n",
    "\n",
    "    def __init__(self, legs, color):\n",
    "        self.legs = legs\n",
    "        self.color = color\n",
    "        \n",
    "    def bark(self):\n",
    "        bark = \"bark\" * 3\n",
    "        return bark\n",
    "\n",
    "if __name__ == \"__main__\":\n",
    "    dog = Dog(4, \"brown\")\n",
    "    bark = dog.bark()\n",
    "    print(bark)"
   ]
  },
  {
   "cell_type": "markdown",
   "metadata": {},
   "source": [
    "#### Exercise: HackerRank Gregorian calendar problem"
   ]
  },
  {
   "cell_type": "code",
   "execution_count": 37,
   "metadata": {},
   "outputs": [
    {
     "name": "stdin",
     "output_type": "stream",
     "text": [
      " 1800\n"
     ]
    },
    {
     "name": "stdout",
     "output_type": "stream",
     "text": [
      "False\n"
     ]
    }
   ],
   "source": [
    "#My way\n",
    "def is_leap(year):\n",
    "    if year % 4 == 0 and year % 100 != 0:\n",
    "        leap = True\n",
    "    elif year % 400 == 0:\n",
    "        leap = True\n",
    "    else:\n",
    "        leap = False\n",
    "    return leap\n",
    "year = int(input())\n",
    "print(is_leap(year))"
   ]
  },
  {
   "cell_type": "code",
   "execution_count": 28,
   "metadata": {},
   "outputs": [
    {
     "name": "stdin",
     "output_type": "stream",
     "text": [
      " 1992\n"
     ]
    },
    {
     "name": "stdout",
     "output_type": "stream",
     "text": [
      "True\n"
     ]
    }
   ],
   "source": [
    "#Even better way\n",
    "def is_leap(year):\n",
    "    leap=False\n",
    "    if year % 4 == 0 and (year % 100 != 0 or year % 400 ==0):\n",
    "        leap = True\n",
    "    return leap\n",
    "year = int(input())\n",
    "print(is_leap(year))"
   ]
  },
  {
   "cell_type": "markdown",
   "metadata": {},
   "source": [
    "### Lambda"
   ]
  },
  {
   "cell_type": "markdown",
   "metadata": {},
   "source": [
    "* is an anonymous/throw-away function aka function without a name\n",
    "* not saved, written for that instance quickly\n",
    "* lambda argument_list : expression\n",
    "* sum = lambda x,y(item or items) : x+y (what you want the function to do)"
   ]
  },
  {
   "cell_type": "code",
   "execution_count": 38,
   "metadata": {},
   "outputs": [
    {
     "data": {
      "text/plain": [
       "8"
      ]
     },
     "execution_count": 38,
     "metadata": {},
     "output_type": "execute_result"
    }
   ],
   "source": [
    "power1 = lambda x,y: x**y\n",
    "power1(2,3)\n",
    "\n",
    "def power(x,y):\n",
    "    return x**y\n",
    "\n",
    "power(2,3)\n",
    "power1(2,3)"
   ]
  },
  {
   "cell_type": "code",
   "execution_count": 18,
   "metadata": {},
   "outputs": [
    {
     "name": "stdin",
     "output_type": "stream",
     "text": [
      " 4\n",
      " marina\n",
      " 108\n",
      " adam\n",
      " 100\n",
      " grace\n",
      " 98\n",
      " hazel\n",
      " 150\n"
     ]
    },
    {
     "name": "stdout",
     "output_type": "stream",
     "text": [
      "108.0\n",
      "marina\n"
     ]
    }
   ],
   "source": [
    "marksheet = []\n",
    "for _ in range(0,int(input())):\n",
    "    marksheet.append([input(), float(input())])\n",
    "\n",
    "second_highest = sorted(list(set([marks for name, marks in marksheet])), reverse=True)[1]\n",
    "print(second_highest)\n",
    "print('\\n'.join([a for a,b in sorted(marksheet) if b == second_highest]))"
   ]
  },
  {
   "cell_type": "markdown",
   "metadata": {},
   "source": [
    "### map()"
   ]
  },
  {
   "cell_type": "markdown",
   "metadata": {},
   "source": [
    "* takes two arguments (function, sequence aka list)\n",
    "* for the most part you need to use it with list(map(...))\n",
    "* can be applied to more than one list\n",
    "* these lists do not need to be in the same length\n",
    "* BUT map will compute the function according to the shortest list\n",
    "* can be applied to more than one function"
   ]
  },
  {
   "cell_type": "code",
   "execution_count": 42,
   "metadata": {},
   "outputs": [
    {
     "name": "stdout",
     "output_type": "stream",
     "text": [
      "[10.0, 15.555555555555557, 23.88888888888889, 32.22222222222222, 35.0]\n",
      "[50.0, 60.0, 75.0, 90.0, 95.0]\n"
     ]
    }
   ],
   "source": [
    "#Using without lambda, you will need a function and a list\n",
    "def F(T):\n",
    "    return((float(9) / 5) * T + 32)\n",
    "def C(T):\n",
    "    return(float(5) / 9) * (T - 32)\n",
    "temperatures = [50, 60, 75, 90, 95]\n",
    "Celsius=list(map(C,temperatures))\n",
    "print(Celsius)\n",
    "Fah = list(map(F, Celsius))\n",
    "print(Fah)"
   ]
  },
  {
   "cell_type": "code",
   "execution_count": 43,
   "metadata": {},
   "outputs": [
    {
     "name": "stdout",
     "output_type": "stream",
     "text": [
      "[10.0, 15.555555555555557, 23.88888888888889, 32.22222222222222, 35.0]\n"
     ]
    }
   ],
   "source": [
    "#Using with lambda\n",
    "Celsius = list(map(lambda x: float(5)/9*(x - 32), temperatures))\n",
    "print(Celsius)"
   ]
  },
  {
   "cell_type": "code",
   "execution_count": 21,
   "metadata": {},
   "outputs": [
    {
     "name": "stdout",
     "output_type": "stream",
     "text": [
      "[0, 0, 0]\n"
     ]
    }
   ],
   "source": [
    "#more than one list\n",
    "a = [1,2,3]\n",
    "b = [2,4,6]\n",
    "c=[-3,-6,-9]\n",
    "print(list(map(lambda x,y,z: x+y+z, a,b,c)))"
   ]
  },
  {
   "cell_type": "code",
   "execution_count": 46,
   "metadata": {},
   "outputs": [
    {
     "name": "stdout",
     "output_type": "stream",
     "text": [
      "[2.0, 2.0]\n",
      "[2.0, 0.0]\n"
     ]
    }
   ],
   "source": [
    "#more than one function\n",
    "a = [1,2,3]\n",
    "b = [2,4,6]\n",
    "c=[-3,-6,-9]\n",
    "def map_functions(functions, x):\n",
    "    res=[]\n",
    "    for i in functions:\n",
    "        res.append(i(x))\n",
    "    return res\n",
    "from numpy import median, mean\n",
    "functions_numpy = median, mean\n",
    "all_lists =[a,b,c]\n",
    "print(map_functions(functions_numpy, a)) #one list multiple functions\n",
    "print(map_functions(functions_numpy, all_lists)) #combines all lists\n",
    "#print(list(map(functions_numpy,a,b,c))) #error: cannot call list or tuples for function parameter"
   ]
  },
  {
   "cell_type": "markdown",
   "metadata": {},
   "source": [
    "### filter()"
   ]
  },
  {
   "cell_type": "markdown",
   "metadata": {},
   "source": [
    "* takes two arguments (functions and sequences)\n",
    "* use it with list(filter(lambda...))"
   ]
  },
  {
   "cell_type": "code",
   "execution_count": 48,
   "metadata": {},
   "outputs": [
    {
     "name": "stdout",
     "output_type": "stream",
     "text": [
      "[1, 1, 3, 5, 13, 21, 55, 89] [0, 2, 8, 34, 144]\n"
     ]
    }
   ],
   "source": [
    "fibonnaci = [0,1,1,2,3,5,8,13,21,34,55,89,144]\n",
    "odd_numbers = list(filter(lambda x: x % 2 != 0, fibonnaci))\n",
    "even_numbers = list(filter(lambda x: x % 2 ==0, fibonnaci))\n",
    "print(odd_numbers, even_numbers)"
   ]
  },
  {
   "cell_type": "markdown",
   "metadata": {},
   "source": [
    "### reduce()"
   ]
  },
  {
   "cell_type": "markdown",
   "metadata": {},
   "source": [
    "* in Python 3,  it is part of functools library\n",
    "* use this to reduce a list to one number\n",
    "* usually used for sum or multiplication, not very useful\n",
    "* takes two arguments (functions and sequences)\n",
    "* not used with list as others\n",
    "* format: functools.reduce(lamdba...)"
   ]
  },
  {
   "cell_type": "code",
   "execution_count": 25,
   "metadata": {},
   "outputs": [
    {
     "name": "stdout",
     "output_type": "stream",
     "text": [
      "113\n",
      "102\n"
     ]
    }
   ],
   "source": [
    "import functools\n",
    "print(functools.reduce(lambda x,y: x + y, [47, 11, 42, 13])) #adds the numbers\n",
    "print(functools.reduce(lambda x,y: x if(x > y) else y, [47, 11, 42, 102, 13])) #largest number"
   ]
  },
  {
   "cell_type": "markdown",
   "metadata": {},
   "source": [
    "### Exercise 1\n",
    "* Write a Python program, which returns a list with 2-tuples. Each tuple consists of a the order number and the product of the price per items and the quantity. The product should be increased by 10,- € if the value of the order is smaller than 100,00 €. Write a Python program using lambda and map."
   ]
  },
  {
   "cell_type": "code",
   "execution_count": 44,
   "metadata": {},
   "outputs": [
    {
     "name": "stdout",
     "output_type": "stream",
     "text": [
      "[('34587', 163.8), ('98762', 284.0), ('77226', 108.85000000000001), ('88112', 84.97)]\n"
     ]
    }
   ],
   "source": [
    "orders = [ [\"34587\", \"Learning Python, Mark Lutz\", 4, 40.95], \n",
    "\t       [\"98762\", \"Programming Python, Mark Lutz\", 5, 56.80], \n",
    "           [\"77226\", \"Head First Python, Paul Barry\", 3,32.95],\n",
    "           [\"88112\", \"Einführung in Python3, Bernd Klein\", \t3, 24.99]]\n",
    "solution = list(map(lambda x: (x[0],x[2]*x[3]) if (x[2]*x[3])>=100 else (x[0],x[2]*x[3]+10),orders))\n",
    "print(solution)"
   ]
  },
  {
   "cell_type": "markdown",
   "metadata": {},
   "source": [
    "### Exercise 2\n",
    "* The same bookshop, but this time we work on a different list. The sublists of our lists look like this: \n",
    "[ordernumber, (article number, quantity, price per unit), ... (article number, quantity, price per unit) ] \n",
    "Write a program which returns a list of two tuples with (order number, total amount of order).\n"
   ]
  },
  {
   "cell_type": "code",
   "execution_count": 27,
   "metadata": {},
   "outputs": [
    {
     "name": "stdout",
     "output_type": "stream",
     "text": [
      "[[1, 678.3299999999999], [2, 494.46000000000004], [3, 364.79999999999995], [4, 492.57]]\n"
     ]
    }
   ],
   "source": [
    "orders = [ [1, (\"5464\", 4, 9.99), (\"8274\",18,12.99), (\"9744\", 9, 44.95)], \n",
    "\t       [2, (\"5464\", 9, 9.99), (\"9744\", 9, 44.95)],\n",
    "\t       [3, (\"5464\", 9, 9.99), (\"88112\", 11, 24.99)],\n",
    "           [4, (\"8732\", 7, 11.99), (\"7733\",11,18.99), (\"88112\", 5, 39.95)] ]\n",
    "\n",
    "min_order = 100\n",
    "invoice_totals = list(map(lambda x: [x[0]] + list(map(lambda y: y[1]*y[2], x[1:])), orders))\n",
    "invoice_totals = list(map(lambda x: [x[0]] + [functools.reduce(lambda a,b: a + b, x[1:])], invoice_totals))\n",
    "invoice_totals = list(map(lambda x: x if x[1] >= min_order else (x[0], x[1] + 10), invoice_totals))\n",
    "print(invoice_totals)"
   ]
  },
  {
   "cell_type": "markdown",
   "metadata": {},
   "source": [
    "## List comprehensions"
   ]
  },
  {
   "cell_type": "markdown",
   "metadata": {},
   "source": [
    "* list_variable = [x for x in iterable]\n",
    "* [(do this) for (this item) in (this list)]"
   ]
  },
  {
   "cell_type": "code",
   "execution_count": 29,
   "metadata": {},
   "outputs": [
    {
     "name": "stdout",
     "output_type": "stream",
     "text": [
      "[1, 4, 16, 64, 256, 1024, 4096, 16384, 65536, 262144]\n"
     ]
    }
   ],
   "source": [
    "#list comprehension version\n",
    "S = [2**x for x in range(0,20,2)] \n",
    "print(S)"
   ]
  },
  {
   "cell_type": "code",
   "execution_count": 30,
   "metadata": {},
   "outputs": [
    {
     "name": "stdout",
     "output_type": "stream",
     "text": [
      "[1, 4, 16, 64, 256, 1024, 4096, 16384, 65536, 262144]\n"
     ]
    }
   ],
   "source": [
    "#loop version\n",
    "S=[]\n",
    "for x in range (0,20,2):\n",
    "    new=2**x\n",
    "    S.append(new)\n",
    "print(S)"
   ]
  },
  {
   "cell_type": "code",
   "execution_count": 31,
   "metadata": {},
   "outputs": [
    {
     "name": "stdout",
     "output_type": "stream",
     "text": [
      "[1, 4, 16, 64, 256, 1024, 4096, 16384, 65536, 262144]\n"
     ]
    }
   ],
   "source": [
    "#map version\n",
    "S = list(map(lambda x: 2**x, range(0,20,2)))\n",
    "print(S)"
   ]
  },
  {
   "cell_type": "code",
   "execution_count": 45,
   "metadata": {},
   "outputs": [
    {
     "data": {
      "text/plain": [
       "([True, False, False, False, False, False, False, False, False, False],\n",
       " [False, True, True, True, True, True, True, True, True, True])"
      ]
     },
     "execution_count": 45,
     "metadata": {},
     "output_type": "execute_result"
    }
   ],
   "source": [
    "#to replace filter() function\n",
    "odd_numbers_in_S = [x%2 != 0 for x in S]\n",
    "even_numbers_in_S = [x%2 == 0 for x in S]\n",
    "odd_numbers_in_S, even_numbers_in_S"
   ]
  },
  {
   "cell_type": "code",
   "execution_count": 58,
   "metadata": {},
   "outputs": [
    {
     "name": "stdout",
     "output_type": "stream",
     "text": [
      "349525\n"
     ]
    }
   ],
   "source": [
    "#to replace reduce() function\n",
    "total = sum([x for x in S])\n",
    "print(total)"
   ]
  },
  {
   "cell_type": "markdown",
   "metadata": {},
   "source": [
    "### Conditionals with list comprehensions\n",
    "* always start with what you would like to do \n",
    "* without if-else: [(do this) for (this item) in (this list)]\n",
    "* pay attention to if-else statements, the structure above changes\n",
    "* [(do this) if (this) else (do this) for (this item) in (this list)]\n"
   ]
  },
  {
   "cell_type": "code",
   "execution_count": 62,
   "metadata": {},
   "outputs": [
    {
     "name": "stdout",
     "output_type": "stream",
     "text": [
      "[2.0, 8.0, 32.0, 128.0, 512.0, 2048.0, 8192.0, 32768.0, 131072.0]\n"
     ]
    }
   ],
   "source": [
    "#one conditional\n",
    "#only divide evens by 2\n",
    "even_division = [x/2 for x in S if x % 2 == 0]\n",
    "print(even_division)"
   ]
  },
  {
   "cell_type": "code",
   "execution_count": 61,
   "metadata": {},
   "outputs": [
    {
     "name": "stdout",
     "output_type": "stream",
     "text": [
      "[2.0, 8.0, 32.0, 128.0, 512.0, 2048.0, 8192.0, 32768.0, 131072.0]\n"
     ]
    }
   ],
   "source": [
    "#loop version\n",
    "even_division = []\n",
    "for x in S:\n",
    "    if x % 2 ==0:\n",
    "        even_division.append(x/2)\n",
    "print(even_division)"
   ]
  },
  {
   "cell_type": "code",
   "execution_count": 67,
   "metadata": {},
   "outputs": [
    {
     "name": "stdout",
     "output_type": "stream",
     "text": [
      "[0, 12, 24, 36, 48, 60, 72, 84, 96]\n"
     ]
    }
   ],
   "source": [
    "#multiple conditions\n",
    "#divisible by 4 and 6\n",
    "divided = [x for x in range(100) if x % 4 == 0 if x % 6 == 0]\n",
    "print(divided)"
   ]
  },
  {
   "cell_type": "code",
   "execution_count": 64,
   "metadata": {},
   "outputs": [
    {
     "name": "stdout",
     "output_type": "stream",
     "text": [
      "[0, 12, 24, 36, 48, 60, 72, 84, 96]\n"
     ]
    }
   ],
   "source": [
    "#loop version of above\n",
    "divided = []\n",
    "\n",
    "for x in range(100):\n",
    "    if x % 4 == 0 and x % 6 == 0:\n",
    "            divided.append(x)\n",
    "print(divided)"
   ]
  },
  {
   "cell_type": "code",
   "execution_count": 68,
   "metadata": {},
   "outputs": [
    {
     "name": "stdout",
     "output_type": "stream",
     "text": [
      "[0, 1, 2, 9, 4, 25, 6, 49, 8, 81]\n"
     ]
    }
   ],
   "source": [
    "#if-else conditions\n",
    "#if odd power(2) if even x\n",
    "V = [x**2 if x % 2 != 0 else x for x in range(10)]\n",
    "print(V)"
   ]
  },
  {
   "cell_type": "markdown",
   "metadata": {},
   "source": [
    "### Nested list comprehensions\n",
    "* to generate/transpose/flat list of lists\n",
    "* there will be two 'for's and 'in's\n",
    "* [(do this) for (larger item) in (bigger List1) for (smaller item) in (smaller List2)]"
   ]
  },
  {
   "cell_type": "code",
   "execution_count": 143,
   "metadata": {},
   "outputs": [
    {
     "name": "stdout",
     "output_type": "stream",
     "text": [
      "[1, 2, 3, 4, 5, 6, 7, 8, 9]\n"
     ]
    }
   ],
   "source": [
    "#to flatten\n",
    "list_of_list = [[1,2,3],[4,5,6],[7,8,9]]\n",
    "[m for n in list_of_list for m in n]"
   ]
  },
  {
   "cell_type": "code",
   "execution_count": 144,
   "metadata": {},
   "outputs": [
    {
     "name": "stdout",
     "output_type": "stream",
     "text": [
      "[1, 2, 3, 4, 5, 6, 7, 8, 9]\n"
     ]
    }
   ],
   "source": [
    "#loop version\n",
    "new_list=[]\n",
    "for q in list_of_list:\n",
    "    for i in q:\n",
    "        new_list.append(i)\n",
    "    \n",
    "print(new_list)"
   ]
  },
  {
   "cell_type": "code",
   "execution_count": 156,
   "metadata": {},
   "outputs": [
    {
     "data": {
      "text/plain": [
       "[[1, 4, 7], [2, 5, 8], [3, 6, 9]]"
      ]
     },
     "execution_count": 156,
     "metadata": {},
     "output_type": "execute_result"
    }
   ],
   "source": [
    "#to transpose\n",
    "matrix = [[1,2,3],[4,5,6],[7,8,9]]\n",
    "[[x[i] for x in matrix] for i in range(len(x))]"
   ]
  },
  {
   "cell_type": "code",
   "execution_count": 160,
   "metadata": {},
   "outputs": [
    {
     "name": "stdout",
     "output_type": "stream",
     "text": [
      "[[1, 4, 7], [2, 5, 8], [3, 6, 9]]\n"
     ]
    }
   ],
   "source": [
    "#loop version\n",
    "transposed=[]\n",
    "for i in range(len(x)):\n",
    "    transposed_row =[] #so that it would create an empty list for each row\n",
    "    for x in matrix:\n",
    "        transposed_row.append(x[i])\n",
    "    transposed.append(transposed_row)\n",
    "print(transposed)"
   ]
  },
  {
   "cell_type": "code",
   "execution_count": 121,
   "metadata": {},
   "outputs": [
    {
     "data": {
      "text/plain": [
       "[[1, 1, 1], [1, 1, 1], [1, 1, 1], [1, 1, 1], [1, 1, 1]]"
      ]
     },
     "execution_count": 121,
     "metadata": {},
     "output_type": "execute_result"
    }
   ],
   "source": [
    "#to create a 5x3 matrix\n",
    "[[1 for y in range(3)] for x in range(5)]"
   ]
  },
  {
   "cell_type": "code",
   "execution_count": 124,
   "metadata": {},
   "outputs": [
    {
     "name": "stdout",
     "output_type": "stream",
     "text": [
      "[[1, 1, 1], [1, 1, 1], [1, 1, 1], [1, 1, 1], [1, 1, 1]]\n"
     ]
    }
   ],
   "source": [
    "#loop version of above\n",
    "matrix=[]\n",
    "for x in range(5):\n",
    "    lis=[]\n",
    "    for y in range(3):\n",
    "        lis.append(1)\n",
    "    matrix.append(lis)\n",
    "print(matrix)"
   ]
  },
  {
   "cell_type": "markdown",
   "metadata": {},
   "source": [
    "* Multiple ways to write the same thing"
   ]
  },
  {
   "cell_type": "code",
   "execution_count": 102,
   "metadata": {},
   "outputs": [
    {
     "name": "stdout",
     "output_type": "stream",
     "text": [
      "1: [[1, 'foo', 'bar'], [2, 'tom', 'jerry']]\n",
      "2: [[1, 'foo', 'bar'], [2, 'tom', 'jerry']]\n",
      "3: [[1, 'foo', 'bar'], [2, 'tom', 'jerry']]\n",
      "4: [[1, 'foo', 'bar'], [2, 'tom', 'jerry']]\n"
     ]
    }
   ],
   "source": [
    "inputs = [\"1, foo, bar\", \"2,tom,  jerry\"]\n",
    "\n",
    "outputs1 = [[int(x), y.strip(), z.strip()] for x,y,z in (s.split(',') for s in inputs)]\n",
    "print(\"1:\", outputs1)       \n",
    "\n",
    "outputs2 = [(lambda x, y, z: [int(x), y.strip(), z.strip()])(*s.split(\",\")) for s in inputs]\n",
    "print(\"2:\", outputs2)    \n",
    "\n",
    "outputs3 = [z for z in map(lambda x: [int(x[0]), x[1].strip(), x[2].strip()],[s.split(\",\") for s in inputs])]\n",
    "print(\"3:\", outputs3)       \n",
    "\n",
    "outputs4 = [[int(x), y.strip(), z.strip()] for s in inputs for (x, y, z) in [s.split(\",\")]]\n",
    "print(\"4:\", outputs4)     "
   ]
  }
 ],
 "metadata": {
  "kernelspec": {
   "display_name": "Python 3",
   "language": "python",
   "name": "python3"
  },
  "language_info": {
   "codemirror_mode": {
    "name": "ipython",
    "version": 3
   },
   "file_extension": ".py",
   "mimetype": "text/x-python",
   "name": "python",
   "nbconvert_exporter": "python",
   "pygments_lexer": "ipython3",
   "version": "3.7.4"
  }
 },
 "nbformat": 4,
 "nbformat_minor": 4
}
