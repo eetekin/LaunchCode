{
 "cells": [
  {
   "cell_type": "markdown",
   "metadata": {},
   "source": [
    "# Week 2"
   ]
  },
  {
   "cell_type": "markdown",
   "metadata": {},
   "source": [
    "Basics of Python"
   ]
  },
  {
   "cell_type": "code",
   "execution_count": 6,
   "metadata": {},
   "outputs": [],
   "source": [
    "# this is called cell. \n",
    "#You can execute it with shift + control\n",
    "a = 3\n",
    "#You need to execute a cell before asking for that variable."
   ]
  },
  {
   "cell_type": "code",
   "execution_count": 7,
   "metadata": {},
   "outputs": [
    {
     "data": {
      "text/plain": [
       "3"
      ]
     },
     "execution_count": 7,
     "metadata": {},
     "output_type": "execute_result"
    }
   ],
   "source": [
    "a"
   ]
  },
  {
   "cell_type": "code",
   "execution_count": 1,
   "metadata": {},
   "outputs": [],
   "source": [
    "# Change to Markdown for nice text. \n",
    "# Your comments within code will look like this.\n",
    "# * in Markdown creates bullet points.\n",
    "# # in Markdown creates titles as \"Lesson 1\"."
   ]
  },
  {
   "cell_type": "markdown",
   "metadata": {},
   "source": [
    "1. Get funding.\n",
    "1. Do work.\n",
    "    *  Design experiment.\n",
    "    *  Collect data.\n",
    "    *  Analyze.\n",
    "1. Write up.\n",
    "1. Publish. "
   ]
  },
  {
   "cell_type": "code",
   "execution_count": 3,
   "metadata": {},
   "outputs": [
    {
     "data": {
      "text/plain": [
       "3"
      ]
     },
     "execution_count": 3,
     "metadata": {},
     "output_type": "execute_result"
    }
   ],
   "source": [
    "7*3\n",
    "2+1 #unless you print, you get the last operation"
   ]
  },
  {
   "cell_type": "markdown",
   "metadata": {},
   "source": [
    "How your code will look like if you type it in Markdown:\n",
    "\n",
    "x = 6 * 7 + 12\n",
    "print (x)"
   ]
  },
  {
   "cell_type": "markdown",
   "metadata": {},
   "source": [
    "You can write formulas in Markdown:\n",
    "\n",
    "$\\sum_{i=1}^{N} 2^{-i} \\approx 1$"
   ]
  },
  {
   "cell_type": "code",
   "execution_count": 19,
   "metadata": {},
   "outputs": [],
   "source": [
    "age = 42\n",
    "first_name = \"Ahmed\""
   ]
  },
  {
   "cell_type": "markdown",
   "metadata": {},
   "source": [
    "Starting a variable with __ has a special meaning that we did not cover yet."
   ]
  },
  {
   "cell_type": "code",
   "execution_count": 20,
   "metadata": {},
   "outputs": [],
   "source": [
    "__my_special_variable = age"
   ]
  },
  {
   "cell_type": "markdown",
   "metadata": {},
   "source": [
    "#### 'print' function"
   ]
  },
  {
   "cell_type": "code",
   "execution_count": 21,
   "metadata": {},
   "outputs": [
    {
     "name": "stdout",
     "output_type": "stream",
     "text": [
      "Ahmed is 42 years old\n"
     ]
    }
   ],
   "source": [
    "print(first_name, \"is\", age, \"years old\")"
   ]
  },
  {
   "cell_type": "code",
   "execution_count": 22,
   "metadata": {},
   "outputs": [
    {
     "name": "stdout",
     "output_type": "stream",
     "text": [
      "Ahmed is 42 years old\n"
     ]
    }
   ],
   "source": [
    "print(first_name + \" is \" + str(age) + \" years old\")"
   ]
  },
  {
   "cell_type": "markdown",
   "metadata": {},
   "source": [
    "You can dynamically change your variables."
   ]
  },
  {
   "cell_type": "code",
   "execution_count": 23,
   "metadata": {},
   "outputs": [],
   "source": [
    "age = age + 3"
   ]
  },
  {
   "cell_type": "code",
   "execution_count": 24,
   "metadata": {},
   "outputs": [
    {
     "data": {
      "text/plain": [
       "45"
      ]
     },
     "execution_count": 24,
     "metadata": {},
     "output_type": "execute_result"
    }
   ],
   "source": [
    "age"
   ]
  },
  {
   "cell_type": "code",
   "execution_count": 25,
   "metadata": {},
   "outputs": [],
   "source": [
    "atom_name = 'helium'"
   ]
  },
  {
   "cell_type": "code",
   "execution_count": 26,
   "metadata": {},
   "outputs": [
    {
     "name": "stdout",
     "output_type": "stream",
     "text": [
      "h\n"
     ]
    }
   ],
   "source": [
    "print(atom_name[0])"
   ]
  },
  {
   "cell_type": "code",
   "execution_count": 27,
   "metadata": {},
   "outputs": [
    {
     "name": "stdout",
     "output_type": "stream",
     "text": [
      "sodi\n",
      "odi\n",
      "\n",
      "odium\n"
     ]
    }
   ],
   "source": [
    "atom_name = 'sodium'\n",
    "print(atom_name[0:4]) #first inclusive, last exclusive\n",
    "print(atom_name[1:-2]) #last is still exclusive\n",
    "print(atom_name[1:-5]) #ends up blank\n",
    "print(atom_name[1:9]) #same as [1:]"
   ]
  },
  {
   "cell_type": "code",
   "execution_count": 28,
   "metadata": {},
   "outputs": [
    {
     "name": "stdout",
     "output_type": "stream",
     "text": [
      "6\n",
      "6\n"
     ]
    }
   ],
   "source": [
    "a = len(atom_name)\n",
    "print(a)\n",
    "print(len(atom_name)) #nested function inside out"
   ]
  },
  {
   "cell_type": "markdown",
   "metadata": {},
   "source": [
    "#### swap"
   ]
  },
  {
   "cell_type": "code",
   "execution_count": 29,
   "metadata": {},
   "outputs": [],
   "source": [
    "x = 1.0\n",
    "y=3.0\n",
    "swap = x\n",
    "x = y\n",
    "y=swap"
   ]
  },
  {
   "cell_type": "code",
   "execution_count": 30,
   "metadata": {},
   "outputs": [
    {
     "name": "stdout",
     "output_type": "stream",
     "text": [
      "3.0 1.0\n"
     ]
    }
   ],
   "source": [
    "print(x,y)"
   ]
  },
  {
   "cell_type": "code",
   "execution_count": 31,
   "metadata": {},
   "outputs": [],
   "source": [
    "#Let's write a swap function\n",
    "def swap(x,y):\n",
    "    x = input()\n",
    "    y = input()\n",
    "    swap = x\n",
    "    x = y\n",
    "    y = swap\n",
    "    return(x,y)"
   ]
  },
  {
   "cell_type": "code",
   "execution_count": 33,
   "metadata": {},
   "outputs": [
    {
     "name": "stdin",
     "output_type": "stream",
     "text": [
      " 545\n",
      " 1.232\n"
     ]
    },
    {
     "data": {
      "text/plain": [
       "('1.232', '545')"
      ]
     },
     "execution_count": 33,
     "metadata": {},
     "output_type": "execute_result"
    }
   ],
   "source": [
    "swap(x,y)"
   ]
  },
  {
   "cell_type": "markdown",
   "metadata": {},
   "source": [
    "#### Basic loop"
   ]
  },
  {
   "cell_type": "code",
   "execution_count": 44,
   "metadata": {},
   "outputs": [
    {
     "name": "stdout",
     "output_type": "stream",
     "text": [
      "0\n",
      "1\n",
      "2\n",
      "3\n",
      "4\n"
     ]
    }
   ],
   "source": [
    "for i in range(5):\n",
    "    print(i)"
   ]
  },
  {
   "cell_type": "markdown",
   "metadata": {},
   "source": [
    "If you create a function, you cannot get the variables out of that function."
   ]
  },
  {
   "cell_type": "code",
   "execution_count": 45,
   "metadata": {},
   "outputs": [],
   "source": [
    "def my_function():\n",
    "    for j in range(5):\n",
    "        print(j)\n",
    "    return"
   ]
  },
  {
   "cell_type": "code",
   "execution_count": 46,
   "metadata": {},
   "outputs": [
    {
     "name": "stdout",
     "output_type": "stream",
     "text": [
      "0\n",
      "1\n",
      "2\n",
      "3\n",
      "4\n"
     ]
    }
   ],
   "source": [
    "my_function()"
   ]
  },
  {
   "cell_type": "code",
   "execution_count": 39,
   "metadata": {},
   "outputs": [
    {
     "data": {
      "text/plain": [
       "45"
      ]
     },
     "execution_count": 39,
     "metadata": {},
     "output_type": "execute_result"
    }
   ],
   "source": [
    "age #global variable"
   ]
  },
  {
   "cell_type": "code",
   "execution_count": 40,
   "metadata": {},
   "outputs": [
    {
     "ename": "NameError",
     "evalue": "name 'j' is not defined",
     "output_type": "error",
     "traceback": [
      "\u001b[0;31m---------------------------------------------------------------------------\u001b[0m",
      "\u001b[0;31mNameError\u001b[0m                                 Traceback (most recent call last)",
      "\u001b[0;32m<ipython-input-40-ad9aff591bee>\u001b[0m in \u001b[0;36m<module>\u001b[0;34m\u001b[0m\n\u001b[0;32m----> 1\u001b[0;31m \u001b[0mj\u001b[0m \u001b[0;31m#local variable\u001b[0m\u001b[0;34m\u001b[0m\u001b[0;34m\u001b[0m\u001b[0m\n\u001b[0m",
      "\u001b[0;31mNameError\u001b[0m: name 'j' is not defined"
     ]
    }
   ],
   "source": [
    "j #local variable"
   ]
  },
  {
   "cell_type": "markdown",
   "metadata": {},
   "source": [
    "You will get an error. This is called scoping. j is local to only my_function."
   ]
  },
  {
   "cell_type": "markdown",
   "metadata": {},
   "source": [
    "#### String print"
   ]
  },
  {
   "cell_type": "markdown",
   "metadata": {},
   "source": [
    "Strings you can add together but you cannot subtract."
   ]
  },
  {
   "cell_type": "code",
   "execution_count": 41,
   "metadata": {},
   "outputs": [
    {
     "name": "stdout",
     "output_type": "stream",
     "text": [
      "hello Eylul\n",
      "hello hello \n"
     ]
    }
   ],
   "source": [
    "print('hello' + ' Eylul') #concatnation\n",
    "#print('hello' - 'h') #you get an error\n",
    "print('hello '*2)"
   ]
  },
  {
   "cell_type": "markdown",
   "metadata": {},
   "source": [
    "Types of print must match. You must convert number to strings or vice versa."
   ]
  },
  {
   "cell_type": "code",
   "execution_count": 47,
   "metadata": {},
   "outputs": [
    {
     "name": "stdout",
     "output_type": "stream",
     "text": [
      "12\n",
      "3\n"
     ]
    }
   ],
   "source": [
    "#print(1 +\"2\") #you get an error\n",
    "print(str(1)+\"2\") #all string\n",
    "print(1 + int(\"2\")) #all integer"
   ]
  },
  {
   "cell_type": "markdown",
   "metadata": {},
   "source": [
    "A function may take zero or more arguments.\n",
    "* 'len' takes only one \n",
    "* 'print' can take zero or more"
   ]
  },
  {
   "cell_type": "markdown",
   "metadata": {},
   "source": [
    "#### Errors"
   ]
  },
  {
   "cell_type": "code",
   "execution_count": 65,
   "metadata": {},
   "outputs": [],
   "source": [
    "# print(hello world) # this will give a syntax error\n",
    "# age = 53 100 - aage # this will give a runtime error bc it is executing."
   ]
  },
  {
   "cell_type": "markdown",
   "metadata": {},
   "source": [
    "#### Adding strings in text & getting input"
   ]
  },
  {
   "cell_type": "code",
   "execution_count": 50,
   "metadata": {},
   "outputs": [
    {
     "name": "stdout",
     "output_type": "stream",
     "text": [
      "Mad Libs has started.\n"
     ]
    },
    {
     "name": "stdin",
     "output_type": "stream",
     "text": [
      "Enter a name:  Deniz\n",
      "Please enter adjective1:  tired\n",
      "Please enter adjective2:  amazing\n",
      "Please enter adjective3:  horrible\n",
      "Please enter a verb: chase\n",
      "Please enter noun1:  computer\n",
      "Please enter noun2:  book\n",
      "An animal:  cat\n",
      "A food:  cheese\n",
      "A fruit:  apricot\n",
      "A superhero:  Captain America\n",
      "A country:  Thailand\n",
      "A dessert:  baklava\n",
      "A year:  2040\n"
     ]
    },
    {
     "name": "stdout",
     "output_type": "stream",
     "text": [
      "This morning Deniz woke up feeling tired. 'It is going to be a amazing day!' \n",
      "Outside, a bunch of cats were protesting to keep cheese in stores. \n",
      "They began to chase to the rhythm of the computer, which made all the apricots very horrible. \n",
      "Concerned, Deniz texted Captain America, who flew Deniz to Thailand and dropped Deniz in a puddle of frozen baklava. \n",
      "Deniz woke up in the year 2040, in a world where books ruled the world.\n"
     ]
    }
   ],
   "source": [
    "STORY = \"\"\"This morning %s woke up feeling %s. 'It is going to be a %s day!' \n",
    "Outside, a bunch of %ss were protesting to keep %s in stores. \n",
    "They began to %s to the rhythm of the %s, which made all the %ss very %s. \n",
    "Concerned, %s texted %s, who flew %s to %s and dropped %s in a puddle of frozen %s. \n",
    "%s woke up in the year %s, in a world where %ss ruled the world.\"\"\"\n",
    "\n",
    "print(\"Mad Libs has started.\")\n",
    "name = input('Enter a name: ')\n",
    "adjective1 = input('Please enter adjective1: ')\n",
    "adjective2 = input('Please enter adjective2: ')\n",
    "adjective3 = input('Please enter adjective3: ')\n",
    "\n",
    "verb = input('Please enter a verb:' )\n",
    "noun1 = input(\"Please enter noun1: \")\n",
    "noun2 = input(\"Please enter noun2: \")\n",
    "animal =input(\"An animal: \")\n",
    "food =input(\"A food: \")\n",
    "fruit = input(\"A fruit: \")\n",
    "superhero = input(\"A superhero: \")\n",
    "country = input(\"A country: \")\n",
    "dessert = input(\"A dessert: \")\n",
    "year = input(\"A year: \")\n",
    "\n",
    "print(STORY %(name,adjective1, adjective2, animal, food, verb, noun1, \n",
    "              fruit, adjective3, name, superhero, name, country, name,dessert, name, year, noun2))\n"
   ]
  }
 ],
 "metadata": {
  "kernelspec": {
   "display_name": "Python 3",
   "language": "python",
   "name": "python3"
  },
  "language_info": {
   "codemirror_mode": {
    "name": "ipython",
    "version": 3
   },
   "file_extension": ".py",
   "mimetype": "text/x-python",
   "name": "python",
   "nbconvert_exporter": "python",
   "pygments_lexer": "ipython3",
   "version": "3.7.4"
  }
 },
 "nbformat": 4,
 "nbformat_minor": 4
}
